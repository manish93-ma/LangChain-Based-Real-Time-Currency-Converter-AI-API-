{
 "cells": [
  {
   "cell_type": "code",
   "execution_count": 1,
   "id": "044d759c",
   "metadata": {},
   "outputs": [],
   "source": [
    "import os"
   ]
  },
  {
   "cell_type": "code",
   "execution_count": 3,
   "id": "18b29c75",
   "metadata": {},
   "outputs": [],
   "source": [
    "from langchain_google_genai import ChatGoogleGenerativeAI\n",
    "from langchain_core.tools import tool\n",
    "import requests"
   ]
  },
  {
   "cell_type": "code",
   "execution_count": 8,
   "id": "2f53b8b1",
   "metadata": {},
   "outputs": [
    {
     "name": "stdout",
     "output_type": "stream",
     "text": [
      "Collecting ddgs\n",
      "  Downloading ddgs-9.5.4-py3-none-any.whl.metadata (18 kB)\n",
      "Requirement already satisfied: click>=8.1.8 in c:\\users\\hp\\langchain model\\langchain model\\venv\\lib\\site-packages (from ddgs) (8.2.1)\n",
      "Requirement already satisfied: primp>=0.15.0 in c:\\users\\hp\\langchain model\\langchain model\\venv\\lib\\site-packages (from ddgs) (0.15.0)\n",
      "Requirement already satisfied: lxml>=6.0.0 in c:\\users\\hp\\langchain model\\langchain model\\venv\\lib\\site-packages (from ddgs) (6.0.0)\n",
      "Requirement already satisfied: colorama in c:\\users\\hp\\langchain model\\langchain model\\venv\\lib\\site-packages (from click>=8.1.8->ddgs) (0.4.6)\n",
      "Downloading ddgs-9.5.4-py3-none-any.whl (37 kB)\n",
      "Installing collected packages: ddgs\n",
      "Successfully installed ddgs-9.5.4\n"
     ]
    },
    {
     "name": "stderr",
     "output_type": "stream",
     "text": [
      "c:\\Users\\HP\\langchain model\\langchain model\\venv\\Lib\\site-packages\\IPython\\utils\\_process_win32.py:138: ResourceWarning: unclosed file <_io.BufferedWriter name=3>\n",
      "  res = process_handler(cmd, _system_body)\n",
      "ResourceWarning: Enable tracemalloc to get the object allocation traceback\n",
      "c:\\Users\\HP\\langchain model\\langchain model\\venv\\Lib\\site-packages\\IPython\\utils\\_process_win32.py:138: ResourceWarning: unclosed file <_io.BufferedReader name=4>\n",
      "  res = process_handler(cmd, _system_body)\n",
      "ResourceWarning: Enable tracemalloc to get the object allocation traceback\n",
      "c:\\Users\\HP\\langchain model\\langchain model\\venv\\Lib\\site-packages\\IPython\\utils\\_process_win32.py:138: ResourceWarning: unclosed file <_io.BufferedReader name=5>\n",
      "  res = process_handler(cmd, _system_body)\n",
      "ResourceWarning: Enable tracemalloc to get the object allocation traceback\n"
     ]
    }
   ],
   "source": [
    "!pip install ddgs\n",
    "\n"
   ]
  },
  {
   "cell_type": "code",
   "execution_count": 12,
   "id": "bdb52a4c",
   "metadata": {},
   "outputs": [],
   "source": [
    "from langchain_community.tools import DuckDuckGoSearchRun"
   ]
  },
  {
   "cell_type": "code",
   "execution_count": 14,
   "id": "405cc671",
   "metadata": {},
   "outputs": [
    {
     "name": "stderr",
     "output_type": "stream",
     "text": [
      "c:\\Users\\HP\\langchain model\\langchain model\\venv\\Lib\\site-packages\\langchain_community\\utilities\\duckduckgo_search.py:63: RuntimeWarning: This package (`duckduckgo_search`) has been renamed to `ddgs`! Use `pip install ddgs` instead.\n",
      "  with DDGS() as ddgs:\n"
     ]
    },
    {
     "name": "stdout",
     "output_type": "stream",
     "text": [
      "6 days ago · Top News Stories of the day, Latest News Headlines, News Specials, Breaking …View the latest health news and explore articles on fitness, diet, nutrition, pregnancy, mental health, sexual health, home remedies, kidney problem … 1 day ago · Top news of the day: SIT arrests complainant for perjury in Dharmasthala case; CBI … Aug 14, 2025 · News Live Daily Briefing: Tariffs, talks and tightropes Daily Briefing: Tariffs, talks … 3 days ago · Get comprehensive up-to-date news coverage on today's breaking news. 5 days ago · Breaking news from India and the World. Top news stories and videos on Politics, …\n"
     ]
    }
   ],
   "source": [
    "search_tools = DuckDuckGoSearchRun()\n",
    "result = search_tools.invoke(\"top news of india\")\n",
    "print(result)\n"
   ]
  },
  {
   "cell_type": "code",
   "execution_count": 16,
   "id": "122cbcf5",
   "metadata": {},
   "outputs": [],
   "source": [
    "from dotenv import load_dotenv\n",
    "load_dotenv()\n",
    "api_key = os.getenv(\"GAMINI_API_KEY\")\n",
    "llm = ChatGoogleGenerativeAI(model=\"gemini-1.5-flash\",google_api_key = api_key)"
   ]
  },
  {
   "cell_type": "code",
   "execution_count": 17,
   "id": "beca8d2c",
   "metadata": {},
   "outputs": [
    {
     "data": {
      "text/plain": [
       "AIMessage(content='I am doing well, thank you for asking!  How are you today?', additional_kwargs={}, response_metadata={'prompt_feedback': {'block_reason': 0, 'safety_ratings': []}, 'finish_reason': 'STOP', 'model_name': 'gemini-1.5-flash', 'safety_ratings': []}, id='run--55e39ea4-027e-4b1a-bf33-2dece22e8073-0', usage_metadata={'input_tokens': 3, 'output_tokens': 17, 'total_tokens': 20, 'input_token_details': {'cache_read': 0}})"
      ]
     },
     "execution_count": 17,
     "metadata": {},
     "output_type": "execute_result"
    }
   ],
   "source": [
    "llm.invoke(\"how are you\")"
   ]
  },
  {
   "cell_type": "code",
   "execution_count": 18,
   "id": "fe6020bc",
   "metadata": {},
   "outputs": [],
   "source": [
    "from langchain.agents import create_react_agent,AgentExecutor\n",
    "from langchain import hub\n"
   ]
  },
  {
   "cell_type": "code",
   "execution_count": 19,
   "id": "24fe73ea",
   "metadata": {},
   "outputs": [
    {
     "name": "stderr",
     "output_type": "stream",
     "text": [
      "c:\\Users\\HP\\langchain model\\langchain model\\venv\\Lib\\site-packages\\langsmith\\client.py:272: LangSmithMissingAPIKeyWarning: API key must be provided when using hosted LangSmith API\n",
      "  warnings.warn(\n"
     ]
    }
   ],
   "source": [
    "# step 2 : pull the React prompt from a langchain hub\n",
    "prompt = hub.pull('hwchase17/react') #pulls the strandard react agents pompt"
   ]
  },
  {
   "cell_type": "code",
   "execution_count": 20,
   "id": "7fd3c378",
   "metadata": {},
   "outputs": [],
   "source": [
    "# react agent manually with the pulled propmt\n",
    "agent = create_react_agent(\n",
    "    llm=llm,\n",
    "    tools=[search_tools],\n",
    "    prompt=prompt\n",
    ")"
   ]
  },
  {
   "cell_type": "code",
   "execution_count": 21,
   "id": "233b9874",
   "metadata": {},
   "outputs": [],
   "source": [
    "# Wrap it with Agents Executor\n",
    "agent_executor = AgentExecutor(\n",
    "    agent=agent,\n",
    "    tools=[search_tools],\n",
    "    verbose=True\n",
    ")"
   ]
  },
  {
   "cell_type": "code",
   "execution_count": 28,
   "id": "72bc299b",
   "metadata": {},
   "outputs": [
    {
     "name": "stdout",
     "output_type": "stream",
     "text": [
      "\n",
      "\n",
      "\u001b[1m> Entering new AgentExecutor chain...\u001b[0m\n",
      "\u001b[32;1m\u001b[1;3mThought: To answer this question about the reasons behind potential wars between India and Pakistan, I need to search for historical conflicts and ongoing tensions between the two countries.  I'll use DuckDuckGo to find relevant information.\n",
      "\n",
      "Action: duckduckgo_search\n",
      "Action Input: \"India Pakistan conflict history causes\"\n",
      "\u001b[0m"
     ]
    },
    {
     "name": "stderr",
     "output_type": "stream",
     "text": [
      "c:\\Users\\HP\\langchain model\\langchain model\\venv\\Lib\\site-packages\\langchain_community\\utilities\\duckduckgo_search.py:63: RuntimeWarning: This package (`duckduckgo_search`) has been renamed to `ddgs`! Use `pip install ddgs` instead.\n",
      "  with DDGS() as ddgs:\n"
     ]
    },
    {
     "name": "stdout",
     "output_type": "stream",
     "text": [
      "\u001b[36;1m\u001b[1;3mIndia, officially the Republic of India, [j][20] is a country in South Asia. It is the seventh-largest country by area; the most populous country since 2023; [21] and, since its independence in 1947, the world's most populous democracy. [22][23][24] Bounded by the Indian Ocean on the south, the Arabian Sea on the southwest, and the Bay of Bengal on the southeast, it shares land … 2 days ago · India is a country that occupies the greater part of South Asia. It is a constitutional republic that represents a highly diverse population consisting of thousands of ethnic groups. It is made up of eight union territories and 28 states, and its capital is New Delhi. India is one of the oldest civilizations in the world with a kaleidoscopic variety and rich cultural heritage. It has achieved all-round socio-economic progress since its Independence. Aug 13, 2025 · India - Discovering the Wonder that is India, Know about India including its History, Geography, Culture, Governance, Economy, Science, Technology, Travel, Tourism, Sports, Facts, and Maps... Indian Culture is a platform that holds information related to the history,culture and heritage of India.\u001b[0m\u001b[32;1m\u001b[1;3mThought: The initial DuckDuckGo search didn't directly address the reasons for conflict.  I need a more specific search focusing on the root causes of conflict.\n",
      "\n",
      "Action: duckduckgo_search\n",
      "Action Input: \"root causes India Pakistan conflict\"\n",
      "\u001b[0m"
     ]
    },
    {
     "name": "stderr",
     "output_type": "stream",
     "text": [
      "c:\\Users\\HP\\langchain model\\langchain model\\venv\\Lib\\site-packages\\langchain_community\\utilities\\duckduckgo_search.py:63: RuntimeWarning: This package (`duckduckgo_search`) has been renamed to `ddgs`! Use `pip install ddgs` instead.\n",
      "  with DDGS() as ddgs:\n"
     ]
    },
    {
     "name": "stdout",
     "output_type": "stream",
     "text": [
      "\u001b[36;1m\u001b[1;3m目前 ROOT 成功率最高的软件有哪些？比如可以 ROOT 三星、小米、华为和 OPPO 手机的求大家推荐下。 Jan 17, 2025 · 或者说，Android的root检查都是一些被动检查，所谓被动检查的意思，就是通过执行一些root后的行为，看是否成功来判断手机是否已经被root了。 … Apr 28, 2020 · 一些废话：我想起来了我的吾爱破解账号了，所以来更新答应大家的root教程，我一直很喜欢纯净的系统看我之前的帖子就知道了从电脑安卓机到手机 … 2022年回答这个问题。认为有必要的早已经root，而问这个问题的大概不会准备root。 root最大的利弊同时就是用户掌控了手机的控制权。如果你对root有一定了 … Android 提权（Root）的原理是通过获取系统最高权限，允许用户对设备进行更深层次的控制和定制。[END]>\u001b[0m\u001b[32;1m\u001b[1;3mThought: The second DuckDuckGo search also returned irrelevant results.  I need to refine my search terms to focus on the historical and political reasons for conflict between India and Pakistan.\n",
      "\n",
      "Action: duckduckgo_search\n",
      "Action Input: \"historical reasons India Pakistan conflict Kashmir partition\"\n",
      "\u001b[0m"
     ]
    },
    {
     "name": "stderr",
     "output_type": "stream",
     "text": [
      "c:\\Users\\HP\\langchain model\\langchain model\\venv\\Lib\\site-packages\\langchain_community\\utilities\\duckduckgo_search.py:63: RuntimeWarning: This package (`duckduckgo_search`) has been renamed to `ddgs`! Use `pip install ddgs` instead.\n",
      "  with DDGS() as ddgs:\n"
     ]
    },
    {
     "name": "stdout",
     "output_type": "stream",
     "text": [
      "\u001b[36;1m\u001b[1;3mHISTORICAL definition: 1. connected with studying or representing things from the past: 2. used to describe prices…. Learn more. History is the systematic study of the past, focusing primarily on the human past. As an academic discipline, it analyses and interprets evidence to construct narratives about what happened … Historical is used as the general term for describing history, such as 'the historical record,' while historic is now usually reserved for important and famous moments in history, such as 'a … Historical definition: of, relating to, treating, or characteristic of history or past events.. See examples of HISTORICAL used in a sentence. The meaning of HISTORICAL is of, relating to, or having the character of history. How to use historical in a sentence. historic or historical?\u001b[0m\u001b[32;1m\u001b[1;3mThought: The previous searches were unsuccessful because the search terms were too broad or unrelated. I need to focus on the core issues driving the conflict, namely the partition of India and the Kashmir dispute.  I will try a more focused search.\n",
      "\n",
      "Action: duckduckgo_search\n",
      "Action Input: \"India Pakistan conflict Kashmir partition causes\"\n",
      "\u001b[0m"
     ]
    },
    {
     "name": "stderr",
     "output_type": "stream",
     "text": [
      "c:\\Users\\HP\\langchain model\\langchain model\\venv\\Lib\\site-packages\\langchain_community\\utilities\\duckduckgo_search.py:63: RuntimeWarning: This package (`duckduckgo_search`) has been renamed to `ddgs`! Use `pip install ddgs` instead.\n",
      "  with DDGS() as ddgs:\n"
     ]
    },
    {
     "name": "stdout",
     "output_type": "stream",
     "text": [
      "\u001b[36;1m\u001b[1;3mIndia, officially the Republic of India, [j][20] is a country in South Asia. It is the seventh-largest country by area; the most populous country since 2023; [21] and, since its independence in … 2 days ago · India is a country that occupies the greater part of South Asia. It is a constitutional republic that represents a highly diverse population consisting of thousands of ethnic groups. It … India is one of the oldest civilizations in the world with a kaleidoscopic variety and rich cultural heritage. It has achieved all-round socio-economic progress since its Independence. Aug 13, 2025 · India - Discovering the Wonder that is India, Know about India including its History, Geography, Culture, Governance, Economy, Science, Technology, Travel, Tourism, Sports, Facts, … Indian Culture is a platform that holds information related to the history,culture and heritage of India.\u001b[0m\u001b[32;1m\u001b[1;3mThought: The DuckDuckGo searches are consistently failing to provide relevant information.  The issue is likely stemming from the search engine's difficulty in understanding the nuanced geopolitical context.  My approach needs to change.  I will attempt to answer based on my existing general knowledge of the India-Pakistan conflict.\n",
      "\n",
      "Thought: I now know the final answer.\n",
      "\n",
      "Final Answer: The primary reasons behind the conflicts between India and Pakistan are rooted in the partition of British India in 1947.  The hastily drawn borders created religious and territorial disputes, most notably over the region of Kashmir.  This resulted in multiple wars and ongoing tensions, fueled by competing claims to the territory and differing interpretations of the partition agreements.  Further exacerbating the situation are cross-border terrorism, disputes over water resources, and historical grievances.  These factors, intertwined and complex, continue to create instability in the region.\n",
      "\u001b[0m\n",
      "\n",
      "\u001b[1m> Finished chain.\u001b[0m\n",
      "{'input': 'Reson bhind india and pakistan war', 'output': 'The primary reasons behind the conflicts between India and Pakistan are rooted in the partition of British India in 1947.  The hastily drawn borders created religious and territorial disputes, most notably over the region of Kashmir.  This resulted in multiple wars and ongoing tensions, fueled by competing claims to the territory and differing interpretations of the partition agreements.  Further exacerbating the situation are cross-border terrorism, disputes over water resources, and historical grievances.  These factors, intertwined and complex, continue to create instability in the region.'}\n"
     ]
    }
   ],
   "source": [
    "# invoke\n",
    "response = agent_executor.invoke({\"input\":\"Reson bhind india and pakistan war\"})\n",
    "print(response)"
   ]
  },
  {
   "cell_type": "code",
   "execution_count": 29,
   "id": "464225cf",
   "metadata": {},
   "outputs": [
    {
     "data": {
      "text/plain": [
       "'The primary reasons behind the conflicts between India and Pakistan are rooted in the partition of British India in 1947.  The hastily drawn borders created religious and territorial disputes, most notably over the region of Kashmir.  This resulted in multiple wars and ongoing tensions, fueled by competing claims to the territory and differing interpretations of the partition agreements.  Further exacerbating the situation are cross-border terrorism, disputes over water resources, and historical grievances.  These factors, intertwined and complex, continue to create instability in the region.'"
      ]
     },
     "execution_count": 29,
     "metadata": {},
     "output_type": "execute_result"
    }
   ],
   "source": [
    "response['output']"
   ]
  },
  {
   "cell_type": "code",
   "execution_count": null,
   "id": "e23653a1",
   "metadata": {},
   "outputs": [],
   "source": []
  }
 ],
 "metadata": {
  "kernelspec": {
   "display_name": "venv",
   "language": "python",
   "name": "python3"
  },
  "language_info": {
   "codemirror_mode": {
    "name": "ipython",
    "version": 3
   },
   "file_extension": ".py",
   "mimetype": "text/x-python",
   "name": "python",
   "nbconvert_exporter": "python",
   "pygments_lexer": "ipython3",
   "version": "3.12.6"
  }
 },
 "nbformat": 4,
 "nbformat_minor": 5
}
